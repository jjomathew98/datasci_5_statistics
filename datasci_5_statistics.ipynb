{
  "nbformat": 4,
  "nbformat_minor": 0,
  "metadata": {
    "colab": {
      "provenance": [],
      "authorship_tag": "ABX9TyN1TtQkRW0c7U+xvbN89R7P",
      "include_colab_link": true
    },
    "kernelspec": {
      "name": "python3",
      "display_name": "Python 3"
    },
    "language_info": {
      "name": "python"
    }
  },
  "cells": [
    {
      "cell_type": "markdown",
      "metadata": {
        "id": "view-in-github",
        "colab_type": "text"
      },
      "source": [
        "<a href=\"https://colab.research.google.com/github/jjomathew98/datasci_5_statistics/blob/main/datasci_5_statistics.ipynb\" target=\"_parent\"><img src=\"https://colab.research.google.com/assets/colab-badge.svg\" alt=\"Open In Colab\"/></a>"
      ]
    },
    {
      "cell_type": "markdown",
      "source": [
        "# 1. Chi-Square Test:"
      ],
      "metadata": {
        "id": "cKInTUCv6O6v"
      }
    },
    {
      "cell_type": "code",
      "execution_count": 45,
      "metadata": {
        "id": "I-v6RBKs3F4Z"
      },
      "outputs": [],
      "source": [
        "import pandas as pd\n",
        "from scipy.stats import chi2_contingency"
      ]
    },
    {
      "cell_type": "code",
      "source": [
        "df = pd.read_csv('https://raw.githubusercontent.com/hantswilliams/HHA_507_2023/main/WK5/examples/data/nys-opioid-visits/All_Payer_Opioid-Related_Facility_Visits_in_New_York_State__Beginning_2010__SPARCS_.csv')"
      ],
      "metadata": {
        "id": "uSfAQMEl9uSQ"
      },
      "execution_count": 46,
      "outputs": []
    },
    {
      "cell_type": "code",
      "source": [
        "print(df.columns)\n",
        "print(df.head())"
      ],
      "metadata": {
        "colab": {
          "base_uri": "https://localhost:8080/"
        },
        "id": "e2vUYdVg-5G3",
        "outputId": "bd4b688c-c634-4e9b-bc39-b19843557a15"
      },
      "execution_count": 47,
      "outputs": [
        {
          "output_type": "stream",
          "name": "stdout",
          "text": [
            "Index(['Year', 'Patient County Code', 'Patient County Name', 'Rural/Urban',\n",
            "       'Payer', 'ER Opioid', 'ER Visits ', 'ER Rate Per 1000 ',\n",
            "       'Inpatient ER Opioid', 'Inpatient ER Discharges',\n",
            "       'Inpatient ER Rate Per 1000', 'Inpatient Non ER Opioid',\n",
            "       'Inpatient Non ER Discharges', 'Inpatient Non ER Rate Per 1000 ',\n",
            "       'Inpatient Total Opioid', 'Inpatient Total Discharges',\n",
            "       'Inpatient Total Rate Per 1000 ', 'ER Inpatient Total Opioid',\n",
            "       'ER Inpatient Total Discharges ', 'ER Inpatient Total Rate Per 1000',\n",
            "       'Opioid Ambulatory Surgery Visits', 'Ambulatory Surgery Visits',\n",
            "       'Ambulatory Surgery Rate Per 1000', 'Outpatient Opioid',\n",
            "       'Outpatient Visits', 'Outpatient Rate Per 1000',\n",
            "       'Other Outpatient Total Opioid', ' Other Outpatient Total Discharges',\n",
            "       'Other Outpatient Total Rate Per 1000', 'Overall Opioid',\n",
            "       'Overall Discharges', 'Overall Rate Per 1000'],\n",
            "      dtype='object')\n",
            "   Year  Patient County Code Patient County Name Rural/Urban     Payer  \\\n",
            "0  2013                  1.0              Albany       Urban  Medicaid   \n",
            "1  2010                  1.0              Albany       Urban  Medicare   \n",
            "2  2010                  2.0            Allegany       Rural  Medicaid   \n",
            "3  2013                  2.0            Allegany       Rural  Medicaid   \n",
            "4  2010                  2.0            Allegany       Rural     Other   \n",
            "\n",
            "   ER Opioid  ER Visits   ER Rate Per 1000   Inpatient ER Opioid  \\\n",
            "0         22       35379              0.622                   15   \n",
            "1         13       13486              0.964                   13   \n",
            "2          0        3917              0.000                    2   \n",
            "3          1        6273              0.159                    1   \n",
            "4          1         451              2.217                    0   \n",
            "\n",
            "   Inpatient ER Discharges  ...  Ambulatory Surgery Rate Per 1000  \\\n",
            "0                     3408  ...                               0.0   \n",
            "1                    10785  ...                               0.0   \n",
            "2                      422  ...                               0.0   \n",
            "3                      292  ...                               0.0   \n",
            "4                       59  ...                               0.0   \n",
            "\n",
            "   Outpatient Opioid  Outpatient Visits  Outpatient Rate Per 1000  \\\n",
            "0                  0              29976                       0.0   \n",
            "1                  0                105                       0.0   \n",
            "2                  0                 26                       0.0   \n",
            "3                  0               5612                       0.0   \n",
            "4                  0                 10                       0.0   \n",
            "\n",
            "   Other Outpatient Total Opioid   Other Outpatient Total Discharges  \\\n",
            "0                              0                               33921   \n",
            "1                              0                                9616   \n",
            "2                              0                                 842   \n",
            "3                              0                                6388   \n",
            "4                              0                                 118   \n",
            "\n",
            "   Other Outpatient Total Rate Per 1000  Overall Opioid  Overall Discharges  \\\n",
            "0                                   0.0              38               76237   \n",
            "1                                   0.0              27               37257   \n",
            "2                                   0.0               3                5891   \n",
            "3                                   0.0               2               13427   \n",
            "4                                   0.0               1                 675   \n",
            "\n",
            "   Overall Rate Per 1000  \n",
            "0                  0.498  \n",
            "1                  0.725  \n",
            "2                  0.509  \n",
            "3                  0.149  \n",
            "4                  1.481  \n",
            "\n",
            "[5 rows x 32 columns]\n"
          ]
        }
      ]
    },
    {
      "cell_type": "code",
      "source": [
        "df['Rural/Urban'].value_counts()\n",
        "df['Payer'].value_counts()"
      ],
      "metadata": {
        "colab": {
          "base_uri": "https://localhost:8080/"
        },
        "id": "zJnRGGnl_US8",
        "outputId": "50dec51d-4b8f-4581-f4ae-c8a177e8b156"
      },
      "execution_count": 48,
      "outputs": [
        {
          "output_type": "execute_result",
          "data": {
            "text/plain": [
              "Medicaid      390\n",
              "Medicare      390\n",
              "Other         390\n",
              "Commercial    390\n",
              "Unknown       384\n",
              "All Payers      6\n",
              "Name: Payer, dtype: int64"
            ]
          },
          "metadata": {},
          "execution_count": 48
        }
      ]
    },
    {
      "cell_type": "code",
      "source": [
        "contingency_table = pd.crosstab(df['Rural/Urban'], df['Payer'])\n",
        "print(contingency_table)\n",
        "\n",
        "chi2, p, _, _ = chi2_contingency(contingency_table)\n",
        "print(f\"Chi2 value: {chi2}\")\n",
        "print(f\"P-value: {p}\")"
      ],
      "metadata": {
        "colab": {
          "base_uri": "https://localhost:8080/"
        },
        "id": "otT9QUi2CROO",
        "outputId": "054cc664-2c27-4df1-83e9-26abd137b724"
      },
      "execution_count": 49,
      "outputs": [
        {
          "output_type": "stream",
          "name": "stdout",
          "text": [
            "Payer        All Payers  Commercial  Medicaid  Medicare  Other  Unknown\n",
            "Rural/Urban                                                            \n",
            "Rural                 0         144       144       144    144      142\n",
            "State                 6           6         6         6      6        6\n",
            "Urban                 0         240       240       240    240      236\n",
            "Chi2 value: 319.98611827610137\n",
            "P-value: 9.183664413295381e-63\n"
          ]
        }
      ]
    },
    {
      "cell_type": "markdown",
      "source": [
        "#Interpretation\n",
        "### From the significant p-value, we can conclude that there is a relationship between the Payer and Rural/Urban variables. In other words, the type of payer is associated with whether the area is rural or urban. The chi-squared test suggests that these variables are not independent of each other in the given dataset."
      ],
      "metadata": {
        "id": "DzMeEqdJ6UXb"
      }
    },
    {
      "cell_type": "markdown",
      "source": [
        "# 2. T Test"
      ],
      "metadata": {
        "id": "3l2PShiUCsEG"
      }
    },
    {
      "cell_type": "code",
      "source": [
        "!pip install scipy\n",
        "import pandas as pd\n",
        "from scipy.stats import ttest_ind"
      ],
      "metadata": {
        "id": "cSSesJbdC2fg",
        "colab": {
          "base_uri": "https://localhost:8080/"
        },
        "outputId": "90561ca8-e7aa-41f5-893f-b2c3e6d06522"
      },
      "execution_count": 61,
      "outputs": [
        {
          "output_type": "stream",
          "name": "stdout",
          "text": [
            "Requirement already satisfied: scipy in /usr/local/lib/python3.10/dist-packages (1.11.3)\n",
            "Requirement already satisfied: numpy<1.28.0,>=1.21.6 in /usr/local/lib/python3.10/dist-packages (from scipy) (1.23.5)\n"
          ]
        }
      ]
    },
    {
      "cell_type": "code",
      "source": [
        "df = pd.read_csv('https://raw.githubusercontent.com/hantswilliams/HHA_507_2023/main/WK5/examples/data/nys-opioid-visits/All_Payer_Opioid-Related_Facility_Visits_in_New_York_State__Beginning_2010__SPARCS_.csv')\n",
        "len(df)"
      ],
      "metadata": {
        "colab": {
          "base_uri": "https://localhost:8080/"
        },
        "id": "6ZKx89pGC3xk",
        "outputId": "726a658c-9daa-4f63-d271-6c6d2778ff19"
      },
      "execution_count": 62,
      "outputs": [
        {
          "output_type": "execute_result",
          "data": {
            "text/plain": [
              "1950"
            ]
          },
          "metadata": {},
          "execution_count": 62
        }
      ]
    },
    {
      "cell_type": "code",
      "source": [
        "df = df.dropna()\n",
        "len(df)"
      ],
      "metadata": {
        "colab": {
          "base_uri": "https://localhost:8080/"
        },
        "id": "8T-DM3isDH2p",
        "outputId": "9cd54224-fef6-4173-a0ad-517a5a2a12e7"
      },
      "execution_count": 63,
      "outputs": [
        {
          "output_type": "execute_result",
          "data": {
            "text/plain": [
              "1854"
            ]
          },
          "metadata": {},
          "execution_count": 63
        }
      ]
    },
    {
      "cell_type": "code",
      "source": [
        "# Separate ER Visits data for rural and urban areas\n",
        "er_visits_rural = df[df['Rural/Urban'] == 'Rural']['ER Visits ']\n",
        "er_visits_urban = df[df['Rural/Urban'] == 'Urban']['ER Visits ']\n",
        "\n",
        "try:\n",
        "    # Perform the t-test\n",
        "    t_stat, p_val = ttest_ind(er_visits_rural, er_visits_urban, equal_var=False)\n",
        "\n",
        "    # Print the t-statistic and p-value\n",
        "    print(f\"T-statistic: {t_stat}\")\n",
        "    print(f\"P-value: {p_val}\")\n",
        "\n",
        "    # Compute means for ER Visits data for rural and urban areas\n",
        "    er_visits_rural_mean = er_visits_rural.mean()\n",
        "    er_visits_urban_mean = er_visits_urban.mean()\n",
        "\n",
        "    print(f\"Mean prevalence for ER Visits rural: {er_visits_rural_mean}\")\n",
        "    print(f\"Mean prevalence for ER Visits urban: {er_visits_urban_mean}\")\n",
        "\n",
        "except Exception as e:\n",
        "    print(\"An error occurred:\", e)"
      ],
      "metadata": {
        "colab": {
          "base_uri": "https://localhost:8080/"
        },
        "id": "hrqILmw7EylB",
        "outputId": "1e40a92d-9817-46da-de38-cabea0f61d51"
      },
      "execution_count": 70,
      "outputs": [
        {
          "output_type": "stream",
          "name": "stdout",
          "text": [
            "T-statistic: -13.338478225239799\n",
            "P-value: 6.199851925306439e-38\n",
            "Mean prevalence for ER Visits rural: 4651.139296187684\n",
            "Mean prevalence for ER Visits urban: 31504.4385665529\n"
          ]
        }
      ]
    },
    {
      "cell_type": "markdown",
      "source": [
        "## Interpretation\n",
        "\n",
        "The strategy we use for the purpose of interpretation is:\n",
        "  If the p-value is less than your chosen significance level (e.g., 0.05), you would reject the null hypothesis and conclude that there is a significant difference in ER Visits per 1000 people between rural and urban areas.\n",
        "  If the p-value is greater than 0.05, you would fail to reject the null hypothesis, suggesting that there is not enough evidence to conclude a significant difference in ER Visits between rural and urban areas.\n",
        "\n",
        "\n",
        "Since P-value is greater than 0.05 we can say that we would fail to reject the null hypothesis, suggesting that there is not enough evidence to conclude a significant difference in ER Visits between rural and urban areas."
      ],
      "metadata": {
        "id": "4Rxlt_IdfFdB"
      }
    },
    {
      "cell_type": "markdown",
      "source": [
        "# 3. Anova"
      ],
      "metadata": {
        "id": "RCvsMTF5iT69"
      }
    },
    {
      "cell_type": "code",
      "source": [
        "import pandas as pd\n",
        "import statsmodels.api as sm\n",
        "from statsmodels.formula.api import ols\n",
        "\n",
        "############################################################\n",
        "################Creating the data###########################\n",
        "############################################################\n",
        "\n",
        "# Read in the data\n",
        "df = pd.read_csv('https://raw.githubusercontent.com/hantswilliams/HHA_507_2023/main/WK5/examples/data/nys-opioid-visits/All_Payer_Opioid-Related_Facility_Visits_in_New_York_State__Beginning_2010__SPARCS_.csv') # noqa\n",
        "\n",
        "df.columns\n",
        "\n",
        "# Vars to keep: Year, Patient County Name, Rural/Urban, Payer, Overall Opioid\n",
        "## Overall Opioid: Grand Total All Opioid Visits (Emergency Room + Inpatient + Ambulatory Surgery + Outpatient)\n",
        "\n",
        "df2 = df[['Rural/Urban', 'Payer', 'Overall Opioid']] # noqa\n",
        "\n",
        "# ## create new version where we add up Overall Opioid, groupped by Patient Count Name\n",
        "# df2 = df.groupby(['Rural/Urban', 'Payer'])['Overall Opioid'].sum().reset_index() # noqa\n",
        "\n",
        "## drop where Rural/Urban is equal to 'State'\n",
        "df2 = df2[df2['Rural/Urban'] != 'State']\n",
        "\n",
        "## clean up column names, replace spaces with underscores, remove special characters and make lowercase # noqa\n",
        "df2.columns = df2.columns.str.replace(' ', '_').str.replace('/', '_').str.replace('(', '').str.replace(')', '').str.lower() # noqa\n",
        "\n",
        "## save as temp file\n",
        "df2.to_csv('https://raw.githubusercontent.com/hantswilliams/HHA_507_2023/main/WK5/examples/data/nys-opioid-visits/All_Payer_Opioid-Related_Facility_Visits_in_New_York_State__Beginning_2010__SPARCS_.csv', index=False) # noqa\n",
        "\n",
        "############################################################\n",
        "############################################################\n",
        "############################################################\n",
        "\n",
        "df2.dtypes\n",
        "\n",
        "print(df2.isnull().sum())\n",
        "print(df2.describe())\n",
        "\n",
        "model = ols('overall_opioid ~ C(payer) * C(rural_urban)', data=df2).fit()\n",
        "\n",
        "# Performing the two-way ANOVA\n",
        "anova_table = sm.stats.anova_lm(model, typ=2)\n",
        "\n",
        "print(anova_table)\n",
        "\n",
        "## get means for each payer group of overall opioid\n",
        "df2.groupby('payer')['overall_opioid'].mean()"
      ],
      "metadata": {
        "id": "Nikt2g_Sie-k",
        "colab": {
          "base_uri": "https://localhost:8080/"
        },
        "outputId": "13ebf2f4-42e8-4163-bf5f-8a9f4c807d25"
      },
      "execution_count": 54,
      "outputs": [
        {
          "output_type": "stream",
          "name": "stderr",
          "text": [
            "<ipython-input-54-51be800d16b3>:26: FutureWarning: The default value of regex will change from True to False in a future version. In addition, single character regular expressions will *not* be treated as literal strings when regex=True.\n",
            "  df2.columns = df2.columns.str.replace(' ', '_').str.replace('/', '_').str.replace('(', '').str.replace(')', '').str.lower() # noqa\n",
            "<ipython-input-54-51be800d16b3>:26: FutureWarning: The default value of regex will change from True to False in a future version. In addition, single character regular expressions will *not* be treated as literal strings when regex=True.\n",
            "  df2.columns = df2.columns.str.replace(' ', '_').str.replace('/', '_').str.replace('(', '').str.replace(')', '').str.lower() # noqa\n"
          ]
        },
        {
          "output_type": "stream",
          "name": "stdout",
          "text": [
            "rural_urban       0\n",
            "payer             0\n",
            "overall_opioid    0\n",
            "dtype: int64\n",
            "       overall_opioid\n",
            "count     1914.000000\n",
            "mean        27.364681\n",
            "std         64.017458\n",
            "min          0.000000\n",
            "25%          1.000000\n",
            "50%          6.000000\n",
            "75%         19.000000\n",
            "max        663.000000\n",
            "                               sum_sq      df           F        PR(>F)\n",
            "C(payer)                 9.573150e+05     4.0   76.381109  3.918643e-60\n",
            "C(rural_urban)           5.357190e+05     1.0  170.973254  1.772630e-37\n",
            "C(payer):C(rural_urban)  3.805419e+05     4.0   30.362222  1.580212e-24\n",
            "Residual                 5.965898e+06  1904.0         NaN           NaN\n"
          ]
        },
        {
          "output_type": "execute_result",
          "data": {
            "text/plain": [
              "payer\n",
              "Commercial    48.244792\n",
              "Medicaid      55.406250\n",
              "Medicare      28.630208\n",
              "Other          2.768229\n",
              "Unknown        1.367725\n",
              "Name: overall_opioid, dtype: float64"
            ]
          },
          "metadata": {},
          "execution_count": 54
        }
      ]
    },
    {
      "cell_type": "markdown",
      "source": [
        "#Interpretation\n",
        "\n",
        "### Mean Opioid Usage Rates by Payer:\n",
        "\n",
        "Commercial payer type has the highest mean opioid usage rate (48.24 per 1000 patients), followed by Medicaid (55.41), Medicare (28.63), Other (2.77), and Unknown (1.37). This aligns with the ANOVA results, suggesting a significant difference in opioid usage rates among payer types.\n",
        "\n",
        "### Conclusion:\n",
        "\n",
        "Based on the small p-values in the ANOVA table, we can reject the null hypotheses for 'payer', 'rural_urban', and their interaction. This means there are significant differences in opioid usage rates among different payer types and between Rural and Urban areas, as well as differences in the impact of payer types on opioid usage rates in different geographic areas."
      ],
      "metadata": {
        "id": "1uh8IlnGjAZZ"
      }
    },
    {
      "cell_type": "markdown",
      "source": [
        "# 4. Regression Analysis"
      ],
      "metadata": {
        "id": "XgLrJHyej-Wx"
      }
    },
    {
      "cell_type": "markdown",
      "source": [
        "### For the regression analysis we are choosing the relationship between the number of outpatient visits (independent variable) and the overall rate per 1000 (dependent variable) related to healthcare\n",
        "\n",
        "### Null Hypothesis (H0): The number of outpatient visits does not predict the overall rate per 1000 related to healthcare.\n",
        "\n",
        "### Alternative Hypothesis (H1): The number of outpatient visits predicts the overall rate per 1000 related to healthcare."
      ],
      "metadata": {
        "id": "ZJ1e68wH4fRo"
      }
    },
    {
      "cell_type": "code",
      "source": [
        "import pandas as pd\n",
        "import statsmodels.api as sm\n",
        "import matplotlib.pyplot as plt\n",
        "\n",
        "# Assuming your dataset is loaded into the variable df\n",
        "# Replace column names if they differ from your actual dataset\n",
        "independent_variable = 'Outpatient Visits'  # Numerical independent variable\n",
        "dependent_variable = 'Overall Rate Per 1000'  # Numerical dependent variable\n",
        "\n",
        "# Add a constant term to the independent variable matrix\n",
        "X = sm.add_constant(df[independent_variable])\n",
        "\n",
        "# Dependent variable\n",
        "y = df[dependent_variable]\n",
        "\n",
        "# Fit the regression model\n",
        "model = sm.OLS(y, X).fit()\n",
        "\n",
        "# Get regression summary\n",
        "print(model.summary())\n",
        "\n",
        "# Scatter plot\n",
        "plt.figure(figsize=(8, 6))\n",
        "plt.scatter(df[independent_variable], df[dependent_variable], label='Data Points')\n",
        "\n",
        "# Plot the regression line\n",
        "plt.plot(df[independent_variable], model.predict(X), color='red', label='Regression Line')\n",
        "\n",
        "plt.xlabel(independent_variable)\n",
        "plt.ylabel(dependent_variable)\n",
        "plt.title('Regression Analysis')\n",
        "plt.legend()\n",
        "plt.show()\n",
        "\n"
      ],
      "metadata": {
        "colab": {
          "base_uri": "https://localhost:8080/",
          "height": 1000
        },
        "id": "Rzab7eNN2uwk",
        "outputId": "99129f2e-ab78-4074-f7bb-be29936bedba"
      },
      "execution_count": 73,
      "outputs": [
        {
          "output_type": "stream",
          "name": "stdout",
          "text": [
            "                              OLS Regression Results                             \n",
            "=================================================================================\n",
            "Dep. Variable:     Overall Rate Per 1000   R-squared:                       0.001\n",
            "Model:                               OLS   Adj. R-squared:                  0.000\n",
            "Method:                    Least Squares   F-statistic:                     1.124\n",
            "Date:                   Wed, 25 Oct 2023   Prob (F-statistic):              0.289\n",
            "Time:                           17:32:16   Log-Likelihood:                -4517.6\n",
            "No. Observations:                   1854   AIC:                             9039.\n",
            "Df Residuals:                       1852   BIC:                             9050.\n",
            "Df Model:                              1                                         \n",
            "Covariance Type:               nonrobust                                         \n",
            "=====================================================================================\n",
            "                        coef    std err          t      P>|t|      [0.025      0.975]\n",
            "-------------------------------------------------------------------------------------\n",
            "const                 0.6217      0.067      9.317      0.000       0.491       0.753\n",
            "Outpatient Visits -6.488e-07   6.12e-07     -1.060      0.289   -1.85e-06    5.51e-07\n",
            "==============================================================================\n",
            "Omnibus:                     5227.355   Durbin-Watson:                   2.010\n",
            "Prob(Omnibus):                  0.000   Jarque-Bera (JB):        148060528.311\n",
            "Skew:                          35.513   Prob(JB):                         0.00\n",
            "Kurtosis:                    1385.605   Cond. No.                     1.13e+05\n",
            "==============================================================================\n",
            "\n",
            "Notes:\n",
            "[1] Standard Errors assume that the covariance matrix of the errors is correctly specified.\n",
            "[2] The condition number is large, 1.13e+05. This might indicate that there are\n",
            "strong multicollinearity or other numerical problems.\n"
          ]
        },
        {
          "output_type": "display_data",
          "data": {
            "text/plain": [
              "<Figure size 800x600 with 1 Axes>"
            ],
            "image/png": "[encoded data removed]"
          },
          "metadata": {}
        }
      ]
    },
    {
      "cell_type": "markdown",
      "source": [
        "## Interpretation\n",
        "### Based on the regression analysis and the high p-value for the coefficient of outpatient visits, there is not enough evidence to reject the null hypothesis. The number of outpatient visits does not appear to be a significant predictor of the overall rate per 1000 related to healthcare in this dataset. The relationship between these variables is weak, and the number of outpatient visits alone does not provide a meaningful prediction of the overall rate per 1000."
      ],
      "metadata": {
        "id": "LPRljHJk5VOf"
      }
    }
  ]
}